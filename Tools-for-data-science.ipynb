{
  "metadata": {
    "kernelspec": {
      "name": "python",
      "display_name": "Python (Pyodide)",
      "language": "python"
    },
    "language_info": {
      "codemirror_mode": {
        "name": "python",
        "version": 3
      },
      "file_extension": ".py",
      "mimetype": "text/x-python",
      "name": "python",
      "nbconvert_exporter": "python",
      "pygments_lexer": "ipython3",
      "version": "3.8"
    }
  },
  "nbformat_minor": 5,
  "nbformat": 4,
  "cells": [
    {
      "id": "a6de959b-5be2-43ed-bc93-4c1faa895fb4",
      "cell_type": "markdown",
      "source": "# Assignment - Tools for Data Science",
      "metadata": {}
    },
    {
      "id": "ebd03cb9-cca1-43b6-a369-bc8d5f248abc",
      "cell_type": "markdown",
      "source": "### Introduction\n\nThis is a sample introduction of the course - Tools for Data Science. This course is provided by IBM.",
      "metadata": {}
    },
    {
      "id": "d3129da1-f811-4610-ada3-56097c8da8bd",
      "cell_type": "markdown",
      "source": "### List of data science languages:\n- Python\n- Julia\n- R",
      "metadata": {}
    },
    {
      "id": "ba81463d-85ee-4222-bbf9-52f2527bffab",
      "cell_type": "markdown",
      "source": "### List of data science libraries:\n- Scikit-learn\n- Pandas\n- Numpy\n- Matplotlib\n- ggplot\n- caret",
      "metadata": {}
    },
    {
      "id": "a0598816-7989-4f29-9568-c66abd7eb985",
      "cell_type": "markdown",
      "source": "### List of data science tools:\n- Jupyter Notebook\n- R Studio\n- Anaconda\n- VS Code\n- Git",
      "metadata": {}
    },
    {
      "id": "64ba24d8-1352-48e5-9828-d28b266d080f",
      "cell_type": "markdown",
      "source": "### Examples of Arithmetic Expressions\n\n1. **Addition**: `5 + 3`  \n2. **Subtraction**: `10 - 4`  \n3. **Multiplication**: `6 * 7`  \n4. **Division**: `20 / 5`  ",
      "metadata": {}
    },
    {
      "id": "45ef71d4-a56d-4d87-b1d8-f1e6218f523a",
      "cell_type": "code",
      "source": "a = 5 + 3 \nb = 6 * 7\nprint (a)\nprint (b)",
      "metadata": {
        "trusted": true
      },
      "outputs": [
        {
          "name": "stdout",
          "output_type": "stream",
          "text": "8\n42\n"
        }
      ],
      "execution_count": 2
    },
    {
      "id": "34b117ce-ec42-44a5-a0c7-a2b5df8afb5b",
      "cell_type": "code",
      "source": "minutes = 150\n\n# Conversion\nhours = minutes / 60\n\nprint (f\"{minutes} minutes = {hours} hours\")",
      "metadata": {
        "trusted": true
      },
      "outputs": [
        {
          "name": "stdout",
          "output_type": "stream",
          "text": "150 minutes = 2.5 hours\n"
        }
      ],
      "execution_count": 5
    },
    {
      "id": "9860438b-ca3e-43f2-a663-422d78330ba6",
      "cell_type": "markdown",
      "source": "### Objectives\n\nThe objectives of this lesson/notebook are:\n\n- To demonstrate the knowledge of Jupyter notebook usage.\n- To complete the assignment of the course.",
      "metadata": {}
    },
    {
      "id": "851b250d-b1b9-43b4-a951-cfa5d9fb4e75",
      "cell_type": "markdown",
      "source": "### Author Name\n\n- **Mukesh Chapagain**",
      "metadata": {}
    }
  ]
}